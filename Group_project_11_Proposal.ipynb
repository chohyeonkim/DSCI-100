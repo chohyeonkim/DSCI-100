{
 "cells": [
  {
   "cell_type": "markdown",
   "metadata": {},
   "source": [
    "## Group Project Prososal (group 11) "
   ]
  },
  {
   "cell_type": "code",
   "execution_count": 5,
   "metadata": {},
   "outputs": [
    {
     "name": "stderr",
     "output_type": "stream",
     "text": [
      "── \u001b[1mAttaching packages\u001b[22m ─────────────────────────────────────── tidyverse 1.3.0 ──\n",
      "\n",
      "\u001b[32m✔\u001b[39m \u001b[34mggplot2\u001b[39m 3.3.2     \u001b[32m✔\u001b[39m \u001b[34mpurrr  \u001b[39m 0.3.4\n",
      "\u001b[32m✔\u001b[39m \u001b[34mtibble \u001b[39m 3.0.3     \u001b[32m✔\u001b[39m \u001b[34mdplyr  \u001b[39m 1.0.2\n",
      "\u001b[32m✔\u001b[39m \u001b[34mtidyr  \u001b[39m 1.1.2     \u001b[32m✔\u001b[39m \u001b[34mstringr\u001b[39m 1.4.0\n",
      "\u001b[32m✔\u001b[39m \u001b[34mreadr  \u001b[39m 1.3.1     \u001b[32m✔\u001b[39m \u001b[34mforcats\u001b[39m 0.5.0\n",
      "\n",
      "Warning message:\n",
      "“package ‘ggplot2’ was built under R version 4.0.1”\n",
      "Warning message:\n",
      "“package ‘tibble’ was built under R version 4.0.2”\n",
      "Warning message:\n",
      "“package ‘tidyr’ was built under R version 4.0.2”\n",
      "Warning message:\n",
      "“package ‘dplyr’ was built under R version 4.0.2”\n",
      "── \u001b[1mConflicts\u001b[22m ────────────────────────────────────────── tidyverse_conflicts() ──\n",
      "\u001b[31m✖\u001b[39m \u001b[34mdplyr\u001b[39m::\u001b[32mfilter()\u001b[39m masks \u001b[34mstats\u001b[39m::filter()\n",
      "\u001b[31m✖\u001b[39m \u001b[34mdplyr\u001b[39m::\u001b[32mlag()\u001b[39m    masks \u001b[34mstats\u001b[39m::lag()\n",
      "\n",
      "\n",
      "Attaching package: ‘testthat’\n",
      "\n",
      "\n",
      "The following object is masked from ‘package:dplyr’:\n",
      "\n",
      "    matches\n",
      "\n",
      "\n",
      "The following object is masked from ‘package:purrr’:\n",
      "\n",
      "    is_null\n",
      "\n",
      "\n",
      "The following object is masked from ‘package:tidyr’:\n",
      "\n",
      "    matches\n",
      "\n",
      "\n",
      "Warning message:\n",
      "“package ‘tidymodels’ was built under R version 4.0.2”\n",
      "── \u001b[1mAttaching packages\u001b[22m ────────────────────────────────────── tidymodels 0.1.1 ──\n",
      "\n",
      "\u001b[32m✔\u001b[39m \u001b[34mbroom    \u001b[39m 0.7.0      \u001b[32m✔\u001b[39m \u001b[34mrecipes  \u001b[39m 0.1.13\n",
      "\u001b[32m✔\u001b[39m \u001b[34mdials    \u001b[39m 0.0.9      \u001b[32m✔\u001b[39m \u001b[34mrsample  \u001b[39m 0.0.7 \n",
      "\u001b[32m✔\u001b[39m \u001b[34minfer    \u001b[39m 0.5.4      \u001b[32m✔\u001b[39m \u001b[34mtune     \u001b[39m 0.1.1 \n",
      "\u001b[32m✔\u001b[39m \u001b[34mmodeldata\u001b[39m 0.0.2      \u001b[32m✔\u001b[39m \u001b[34mworkflows\u001b[39m 0.2.0 \n",
      "\u001b[32m✔\u001b[39m \u001b[34mparsnip  \u001b[39m 0.1.3      \u001b[32m✔\u001b[39m \u001b[34myardstick\u001b[39m 0.0.7 \n",
      "\n",
      "Warning message:\n",
      "“package ‘broom’ was built under R version 4.0.2”\n",
      "Warning message:\n",
      "“package ‘dials’ was built under R version 4.0.2”\n",
      "Warning message:\n",
      "“package ‘infer’ was built under R version 4.0.3”\n",
      "Warning message:\n",
      "“package ‘modeldata’ was built under R version 4.0.1”\n",
      "Warning message:\n",
      "“package ‘parsnip’ was built under R version 4.0.2”\n",
      "Warning message:\n",
      "“package ‘recipes’ was built under R version 4.0.1”\n",
      "Warning message:\n",
      "“package ‘tune’ was built under R version 4.0.2”\n",
      "Warning message:\n",
      "“package ‘workflows’ was built under R version 4.0.2”\n",
      "Warning message:\n",
      "“package ‘yardstick’ was built under R version 4.0.2”\n",
      "── \u001b[1mConflicts\u001b[22m ───────────────────────────────────────── tidymodels_conflicts() ──\n",
      "\u001b[31m✖\u001b[39m \u001b[34mscales\u001b[39m::\u001b[32mdiscard()\u001b[39m   masks \u001b[34mpurrr\u001b[39m::discard()\n",
      "\u001b[31m✖\u001b[39m \u001b[34mdplyr\u001b[39m::\u001b[32mfilter()\u001b[39m     masks \u001b[34mstats\u001b[39m::filter()\n",
      "\u001b[31m✖\u001b[39m \u001b[34mrecipes\u001b[39m::\u001b[32mfixed()\u001b[39m    masks \u001b[34mstringr\u001b[39m::fixed()\n",
      "\u001b[31m✖\u001b[39m \u001b[34mtestthat\u001b[39m::\u001b[32mis_null()\u001b[39m masks \u001b[34mpurrr\u001b[39m::is_null()\n",
      "\u001b[31m✖\u001b[39m \u001b[34mdplyr\u001b[39m::\u001b[32mlag()\u001b[39m        masks \u001b[34mstats\u001b[39m::lag()\n",
      "\u001b[31m✖\u001b[39m \u001b[34mtestthat\u001b[39m::\u001b[32mmatches()\u001b[39m masks \u001b[34mdplyr\u001b[39m::matches(), \u001b[34mtidyr\u001b[39m::matches()\n",
      "\u001b[31m✖\u001b[39m \u001b[34myardstick\u001b[39m::\u001b[32mspec()\u001b[39m   masks \u001b[34mreadr\u001b[39m::spec()\n",
      "\u001b[31m✖\u001b[39m \u001b[34mrecipes\u001b[39m::\u001b[32mstep()\u001b[39m     masks \u001b[34mstats\u001b[39m::step()\n",
      "\n"
     ]
    }
   ],
   "source": [
    "library(tidyverse)\n",
    "library(testthat)\n",
    "library(digest)\n",
    "library(repr)\n",
    "library(tidymodels)"
   ]
  },
  {
   "cell_type": "markdown",
   "metadata": {},
   "source": [
    "## 1. Title : Credit Card Fraud Data Analysis Report\n",
    "\n"
   ]
  },
  {
   "cell_type": "markdown",
   "metadata": {},
   "source": [
    "## 2. Introduction:\n",
    "\n",
    "**1) Background Information** \n",
    "\n",
    "As digital payments boomed in recent years with the rapid development of the Internet, people enjoy the fast and convenient transaction service but also face an increasing number of cyber criminals alongside. The Data Breach Index announced that over five million records are being stolen on a daily basis, which indicates that fraud is very common in our daily life. However, detection of fraud is challenging since trillions of card transactions happen per day. \n"
   ]
  },
  {
   "cell_type": "markdown",
   "metadata": {},
   "source": [
    "**2) Research Question**\n",
    "\n",
    "Based on the analysis, can we predict fraudulent transaction using **<font color=red> distance from home, ratio to median purchase price and online order </font>**  variables to prevent future crime?"
   ]
  },
  {
   "cell_type": "markdown",
   "metadata": {},
   "source": [
    "**3) Dataset description**\n",
    "\n",
    "We will be using a dataset called Credit Card Fraud made by Dhanush Narayanan from https://www.kaggle.com/datasets/dhanushnarayananr/credit-card-fraud. The dataset is in a “Comma Seperated Value” (csv) file format and contains eight columns, which are: \n",
    "distance_from_home : the distance from home where the transaction happened\n",
    "distance_from_last_transaction : the distance from last transaction happened.\n",
    "ratio_to_median_purchase_price  :  Ratio of purchased price transaction to median purchase price.\n",
    "repeat_retailer : whether the transaction happened from same retailer or not\n",
    "used_chip : whether the transaction is through chip (credit card) or not\n",
    "used_pin_number : whether the transaction happened by using PIN number or not\n",
    "online_order : whether the transaction is an online order or not\n",
    "fraud : whether the transaction is fraudulent or not\n"
   ]
  },
  {
   "cell_type": "markdown",
   "metadata": {},
   "source": [
    "## 3. Preliminary exploratory data analysis:\n",
    "\n",
    "Demonstrate that the dataset can be read from the web into R \n",
    "Clean and wrangle your data into a tidy format\n",
    "Using only training data, summarize the data in at least one table (this is exploratory data analysis). An example of a useful table could be one that reports the number of observations in each class, the means of the predictor variables you plan to use in your analysis and how many rows have missing data. \n",
    "Using only training data, visualize the data with at least one plot relevant to the analysis you plan to do (this is exploratory data analysis). An example of a useful visualization could be one that compares the distributions of each of the predictor variables you plan to use in your analysis."
   ]
  },
  {
   "cell_type": "code",
   "execution_count": 6,
   "metadata": {},
   "outputs": [],
   "source": [
    "#upload "
   ]
  },
  {
   "cell_type": "code",
   "execution_count": 7,
   "metadata": {},
   "outputs": [
    {
     "data": {
      "text/html": [
       "<table>\n",
       "<caption>A data.frame: 10 × 8</caption>\n",
       "<thead>\n",
       "\t<tr><th></th><th scope=col>distance_from_home</th><th scope=col>distance_from_last_transaction</th><th scope=col>ratio_to_median_purchase_price</th><th scope=col>repeat_retailer</th><th scope=col>used_chip</th><th scope=col>used_pin_number</th><th scope=col>online_order</th><th scope=col>fraud</th></tr>\n",
       "\t<tr><th></th><th scope=col>&lt;dbl&gt;</th><th scope=col>&lt;dbl&gt;</th><th scope=col>&lt;dbl&gt;</th><th scope=col>&lt;fct&gt;</th><th scope=col>&lt;fct&gt;</th><th scope=col>&lt;fct&gt;</th><th scope=col>&lt;fct&gt;</th><th scope=col>&lt;fct&gt;</th></tr>\n",
       "</thead>\n",
       "<tbody>\n",
       "\t<tr><th scope=row>1</th><td>57.8778566</td><td> 0.3111400</td><td>1.94593998</td><td>1</td><td>1</td><td>0</td><td>0</td><td>0</td></tr>\n",
       "\t<tr><th scope=row>2</th><td>10.8299427</td><td> 0.1755915</td><td>1.29421881</td><td>1</td><td>0</td><td>0</td><td>0</td><td>0</td></tr>\n",
       "\t<tr><th scope=row>3</th><td> 5.0910795</td><td> 0.8051526</td><td>0.42771456</td><td>1</td><td>0</td><td>0</td><td>1</td><td>0</td></tr>\n",
       "\t<tr><th scope=row>4</th><td> 2.2475643</td><td> 5.6000435</td><td>0.36266258</td><td>1</td><td>1</td><td>0</td><td>1</td><td>0</td></tr>\n",
       "\t<tr><th scope=row>5</th><td>44.1909360</td><td> 0.5664863</td><td>2.22276730</td><td>1</td><td>1</td><td>0</td><td>1</td><td>0</td></tr>\n",
       "\t<tr><th scope=row>6</th><td> 5.5864077</td><td>13.2610733</td><td>0.06476847</td><td>1</td><td>0</td><td>0</td><td>0</td><td>0</td></tr>\n",
       "\t<tr><th scope=row>7</th><td> 3.7240191</td><td> 0.9568379</td><td>0.27846494</td><td>1</td><td>0</td><td>0</td><td>1</td><td>0</td></tr>\n",
       "\t<tr><th scope=row>8</th><td> 4.8482466</td><td> 0.3207354</td><td>1.27304952</td><td>1</td><td>0</td><td>1</td><td>0</td><td>0</td></tr>\n",
       "\t<tr><th scope=row>9</th><td> 0.8766323</td><td> 2.5036089</td><td>1.51699932</td><td>0</td><td>0</td><td>0</td><td>0</td><td>0</td></tr>\n",
       "\t<tr><th scope=row>10</th><td> 8.8390467</td><td> 2.9705123</td><td>2.36168255</td><td>1</td><td>0</td><td>0</td><td>1</td><td>0</td></tr>\n",
       "</tbody>\n",
       "</table>\n"
      ],
      "text/latex": [
       "A data.frame: 10 × 8\n",
       "\\begin{tabular}{r|llllllll}\n",
       "  & distance\\_from\\_home & distance\\_from\\_last\\_transaction & ratio\\_to\\_median\\_purchase\\_price & repeat\\_retailer & used\\_chip & used\\_pin\\_number & online\\_order & fraud\\\\\n",
       "  & <dbl> & <dbl> & <dbl> & <fct> & <fct> & <fct> & <fct> & <fct>\\\\\n",
       "\\hline\n",
       "\t1 & 57.8778566 &  0.3111400 & 1.94593998 & 1 & 1 & 0 & 0 & 0\\\\\n",
       "\t2 & 10.8299427 &  0.1755915 & 1.29421881 & 1 & 0 & 0 & 0 & 0\\\\\n",
       "\t3 &  5.0910795 &  0.8051526 & 0.42771456 & 1 & 0 & 0 & 1 & 0\\\\\n",
       "\t4 &  2.2475643 &  5.6000435 & 0.36266258 & 1 & 1 & 0 & 1 & 0\\\\\n",
       "\t5 & 44.1909360 &  0.5664863 & 2.22276730 & 1 & 1 & 0 & 1 & 0\\\\\n",
       "\t6 &  5.5864077 & 13.2610733 & 0.06476847 & 1 & 0 & 0 & 0 & 0\\\\\n",
       "\t7 &  3.7240191 &  0.9568379 & 0.27846494 & 1 & 0 & 0 & 1 & 0\\\\\n",
       "\t8 &  4.8482466 &  0.3207354 & 1.27304952 & 1 & 0 & 1 & 0 & 0\\\\\n",
       "\t9 &  0.8766323 &  2.5036089 & 1.51699932 & 0 & 0 & 0 & 0 & 0\\\\\n",
       "\t10 &  8.8390467 &  2.9705123 & 2.36168255 & 1 & 0 & 0 & 1 & 0\\\\\n",
       "\\end{tabular}\n"
      ],
      "text/markdown": [
       "\n",
       "A data.frame: 10 × 8\n",
       "\n",
       "| <!--/--> | distance_from_home &lt;dbl&gt; | distance_from_last_transaction &lt;dbl&gt; | ratio_to_median_purchase_price &lt;dbl&gt; | repeat_retailer &lt;fct&gt; | used_chip &lt;fct&gt; | used_pin_number &lt;fct&gt; | online_order &lt;fct&gt; | fraud &lt;fct&gt; |\n",
       "|---|---|---|---|---|---|---|---|---|\n",
       "| 1 | 57.8778566 |  0.3111400 | 1.94593998 | 1 | 1 | 0 | 0 | 0 |\n",
       "| 2 | 10.8299427 |  0.1755915 | 1.29421881 | 1 | 0 | 0 | 0 | 0 |\n",
       "| 3 |  5.0910795 |  0.8051526 | 0.42771456 | 1 | 0 | 0 | 1 | 0 |\n",
       "| 4 |  2.2475643 |  5.6000435 | 0.36266258 | 1 | 1 | 0 | 1 | 0 |\n",
       "| 5 | 44.1909360 |  0.5664863 | 2.22276730 | 1 | 1 | 0 | 1 | 0 |\n",
       "| 6 |  5.5864077 | 13.2610733 | 0.06476847 | 1 | 0 | 0 | 0 | 0 |\n",
       "| 7 |  3.7240191 |  0.9568379 | 0.27846494 | 1 | 0 | 0 | 1 | 0 |\n",
       "| 8 |  4.8482466 |  0.3207354 | 1.27304952 | 1 | 0 | 1 | 0 | 0 |\n",
       "| 9 |  0.8766323 |  2.5036089 | 1.51699932 | 0 | 0 | 0 | 0 | 0 |\n",
       "| 10 |  8.8390467 |  2.9705123 | 2.36168255 | 1 | 0 | 0 | 1 | 0 |\n",
       "\n"
      ],
      "text/plain": [
       "   distance_from_home distance_from_last_transaction\n",
       "1  57.8778566          0.3111400                    \n",
       "2  10.8299427          0.1755915                    \n",
       "3   5.0910795          0.8051526                    \n",
       "4   2.2475643          5.6000435                    \n",
       "5  44.1909360          0.5664863                    \n",
       "6   5.5864077         13.2610733                    \n",
       "7   3.7240191          0.9568379                    \n",
       "8   4.8482466          0.3207354                    \n",
       "9   0.8766323          2.5036089                    \n",
       "10  8.8390467          2.9705123                    \n",
       "   ratio_to_median_purchase_price repeat_retailer used_chip used_pin_number\n",
       "1  1.94593998                     1               1         0              \n",
       "2  1.29421881                     1               0         0              \n",
       "3  0.42771456                     1               0         0              \n",
       "4  0.36266258                     1               1         0              \n",
       "5  2.22276730                     1               1         0              \n",
       "6  0.06476847                     1               0         0              \n",
       "7  0.27846494                     1               0         0              \n",
       "8  1.27304952                     1               0         1              \n",
       "9  1.51699932                     0               0         0              \n",
       "10 2.36168255                     1               0         0              \n",
       "   online_order fraud\n",
       "1  0            0    \n",
       "2  0            0    \n",
       "3  1            0    \n",
       "4  1            0    \n",
       "5  1            0    \n",
       "6  0            0    \n",
       "7  1            0    \n",
       "8  0            0    \n",
       "9  0            0    \n",
       "10 1            0    "
      ]
     },
     "metadata": {},
     "output_type": "display_data"
    }
   ],
   "source": [
    "#read the file\n",
    "data <- read.csv(\"data/card_transdata.csv\") %>%\n",
    "                mutate(repeat_retailer = as_factor(repeat_retailer)) %>%\n",
    "                mutate(used_chip = as_factor(used_chip)) %>%\n",
    "                mutate(used_pin_number = as_factor(used_pin_number)) %>%\n",
    "                mutate(online_order = as_factor(online_order)) %>%\n",
    "                mutate(fraud = as_factor(fraud)) \n",
    "head(data, 10)"
   ]
  },
  {
   "cell_type": "code",
   "execution_count": 12,
   "metadata": {},
   "outputs": [
    {
     "data": {
      "text/html": [
       "<table>\n",
       "<caption>A data.frame: 10 × 4</caption>\n",
       "<thead>\n",
       "\t<tr><th></th><th scope=col>distance_from_home</th><th scope=col>ratio_to_median_purchase_price</th><th scope=col>online_order</th><th scope=col>fraud</th></tr>\n",
       "\t<tr><th></th><th scope=col>&lt;dbl&gt;</th><th scope=col>&lt;dbl&gt;</th><th scope=col>&lt;fct&gt;</th><th scope=col>&lt;fct&gt;</th></tr>\n",
       "</thead>\n",
       "<tbody>\n",
       "\t<tr><th scope=row>1</th><td>57.8778566</td><td>1.94593998</td><td>0</td><td>0</td></tr>\n",
       "\t<tr><th scope=row>2</th><td>10.8299427</td><td>1.29421881</td><td>0</td><td>0</td></tr>\n",
       "\t<tr><th scope=row>3</th><td> 5.0910795</td><td>0.42771456</td><td>1</td><td>0</td></tr>\n",
       "\t<tr><th scope=row>4</th><td> 2.2475643</td><td>0.36266258</td><td>1</td><td>0</td></tr>\n",
       "\t<tr><th scope=row>5</th><td>44.1909360</td><td>2.22276730</td><td>1</td><td>0</td></tr>\n",
       "\t<tr><th scope=row>6</th><td> 5.5864077</td><td>0.06476847</td><td>0</td><td>0</td></tr>\n",
       "\t<tr><th scope=row>7</th><td> 3.7240191</td><td>0.27846494</td><td>1</td><td>0</td></tr>\n",
       "\t<tr><th scope=row>8</th><td> 4.8482466</td><td>1.27304952</td><td>0</td><td>0</td></tr>\n",
       "\t<tr><th scope=row>9</th><td> 0.8766323</td><td>1.51699932</td><td>0</td><td>0</td></tr>\n",
       "\t<tr><th scope=row>10</th><td> 8.8390467</td><td>2.36168255</td><td>1</td><td>0</td></tr>\n",
       "</tbody>\n",
       "</table>\n"
      ],
      "text/latex": [
       "A data.frame: 10 × 4\n",
       "\\begin{tabular}{r|llll}\n",
       "  & distance\\_from\\_home & ratio\\_to\\_median\\_purchase\\_price & online\\_order & fraud\\\\\n",
       "  & <dbl> & <dbl> & <fct> & <fct>\\\\\n",
       "\\hline\n",
       "\t1 & 57.8778566 & 1.94593998 & 0 & 0\\\\\n",
       "\t2 & 10.8299427 & 1.29421881 & 0 & 0\\\\\n",
       "\t3 &  5.0910795 & 0.42771456 & 1 & 0\\\\\n",
       "\t4 &  2.2475643 & 0.36266258 & 1 & 0\\\\\n",
       "\t5 & 44.1909360 & 2.22276730 & 1 & 0\\\\\n",
       "\t6 &  5.5864077 & 0.06476847 & 0 & 0\\\\\n",
       "\t7 &  3.7240191 & 0.27846494 & 1 & 0\\\\\n",
       "\t8 &  4.8482466 & 1.27304952 & 0 & 0\\\\\n",
       "\t9 &  0.8766323 & 1.51699932 & 0 & 0\\\\\n",
       "\t10 &  8.8390467 & 2.36168255 & 1 & 0\\\\\n",
       "\\end{tabular}\n"
      ],
      "text/markdown": [
       "\n",
       "A data.frame: 10 × 4\n",
       "\n",
       "| <!--/--> | distance_from_home &lt;dbl&gt; | ratio_to_median_purchase_price &lt;dbl&gt; | online_order &lt;fct&gt; | fraud &lt;fct&gt; |\n",
       "|---|---|---|---|---|\n",
       "| 1 | 57.8778566 | 1.94593998 | 0 | 0 |\n",
       "| 2 | 10.8299427 | 1.29421881 | 0 | 0 |\n",
       "| 3 |  5.0910795 | 0.42771456 | 1 | 0 |\n",
       "| 4 |  2.2475643 | 0.36266258 | 1 | 0 |\n",
       "| 5 | 44.1909360 | 2.22276730 | 1 | 0 |\n",
       "| 6 |  5.5864077 | 0.06476847 | 0 | 0 |\n",
       "| 7 |  3.7240191 | 0.27846494 | 1 | 0 |\n",
       "| 8 |  4.8482466 | 1.27304952 | 0 | 0 |\n",
       "| 9 |  0.8766323 | 1.51699932 | 0 | 0 |\n",
       "| 10 |  8.8390467 | 2.36168255 | 1 | 0 |\n",
       "\n"
      ],
      "text/plain": [
       "   distance_from_home ratio_to_median_purchase_price online_order fraud\n",
       "1  57.8778566         1.94593998                     0            0    \n",
       "2  10.8299427         1.29421881                     0            0    \n",
       "3   5.0910795         0.42771456                     1            0    \n",
       "4   2.2475643         0.36266258                     1            0    \n",
       "5  44.1909360         2.22276730                     1            0    \n",
       "6   5.5864077         0.06476847                     0            0    \n",
       "7   3.7240191         0.27846494                     1            0    \n",
       "8   4.8482466         1.27304952                     0            0    \n",
       "9   0.8766323         1.51699932                     0            0    \n",
       "10  8.8390467         2.36168255                     1            0    "
      ]
     },
     "metadata": {},
     "output_type": "display_data"
    }
   ],
   "source": [
    "card_data <- select(data, distance_from_home, ratio_to_median_purchase_price, online_order, fraud )\n",
    "head(card_data, 10)"
   ]
  },
  {
   "cell_type": "code",
   "execution_count": 15,
   "metadata": {},
   "outputs": [
    {
     "data": {
      "text/html": [
       "<table>\n",
       "<caption>A data.frame: 10 × 4</caption>\n",
       "<thead>\n",
       "\t<tr><th></th><th scope=col>distance_from_home</th><th scope=col>ratio_to_median_purchase_price</th><th scope=col>online_order</th><th scope=col>fraud</th></tr>\n",
       "\t<tr><th></th><th scope=col>&lt;dbl&gt;</th><th scope=col>&lt;dbl&gt;</th><th scope=col>&lt;fct&gt;</th><th scope=col>&lt;fct&gt;</th></tr>\n",
       "</thead>\n",
       "<tbody>\n",
       "\t<tr><th scope=row>3</th><td>  5.091079</td><td>0.42771456</td><td>1</td><td>0</td></tr>\n",
       "\t<tr><th scope=row>4</th><td>  2.247564</td><td>0.36266258</td><td>1</td><td>0</td></tr>\n",
       "\t<tr><th scope=row>6</th><td>  5.586408</td><td>0.06476847</td><td>0</td><td>0</td></tr>\n",
       "\t<tr><th scope=row>8</th><td>  4.848247</td><td>1.27304952</td><td>0</td><td>0</td></tr>\n",
       "\t<tr><th scope=row>10</th><td>  8.839047</td><td>2.36168255</td><td>1</td><td>0</td></tr>\n",
       "\t<tr><th scope=row>12</th><td> 13.592368</td><td>1.37032986</td><td>1</td><td>0</td></tr>\n",
       "\t<tr><th scope=row>13</th><td>765.282559</td><td>0.55124475</td><td>0</td><td>0</td></tr>\n",
       "\t<tr><th scope=row>15</th><td> 13.955972</td><td>2.79890112</td><td>1</td><td>0</td></tr>\n",
       "\t<tr><th scope=row>16</th><td>179.665148</td><td>0.53564048</td><td>1</td><td>0</td></tr>\n",
       "\t<tr><th scope=row>17</th><td>114.519789</td><td>0.51698993</td><td>0</td><td>0</td></tr>\n",
       "</tbody>\n",
       "</table>\n"
      ],
      "text/latex": [
       "A data.frame: 10 × 4\n",
       "\\begin{tabular}{r|llll}\n",
       "  & distance\\_from\\_home & ratio\\_to\\_median\\_purchase\\_price & online\\_order & fraud\\\\\n",
       "  & <dbl> & <dbl> & <fct> & <fct>\\\\\n",
       "\\hline\n",
       "\t3 &   5.091079 & 0.42771456 & 1 & 0\\\\\n",
       "\t4 &   2.247564 & 0.36266258 & 1 & 0\\\\\n",
       "\t6 &   5.586408 & 0.06476847 & 0 & 0\\\\\n",
       "\t8 &   4.848247 & 1.27304952 & 0 & 0\\\\\n",
       "\t10 &   8.839047 & 2.36168255 & 1 & 0\\\\\n",
       "\t12 &  13.592368 & 1.37032986 & 1 & 0\\\\\n",
       "\t13 & 765.282559 & 0.55124475 & 0 & 0\\\\\n",
       "\t15 &  13.955972 & 2.79890112 & 1 & 0\\\\\n",
       "\t16 & 179.665148 & 0.53564048 & 1 & 0\\\\\n",
       "\t17 & 114.519789 & 0.51698993 & 0 & 0\\\\\n",
       "\\end{tabular}\n"
      ],
      "text/markdown": [
       "\n",
       "A data.frame: 10 × 4\n",
       "\n",
       "| <!--/--> | distance_from_home &lt;dbl&gt; | ratio_to_median_purchase_price &lt;dbl&gt; | online_order &lt;fct&gt; | fraud &lt;fct&gt; |\n",
       "|---|---|---|---|---|\n",
       "| 3 |   5.091079 | 0.42771456 | 1 | 0 |\n",
       "| 4 |   2.247564 | 0.36266258 | 1 | 0 |\n",
       "| 6 |   5.586408 | 0.06476847 | 0 | 0 |\n",
       "| 8 |   4.848247 | 1.27304952 | 0 | 0 |\n",
       "| 10 |   8.839047 | 2.36168255 | 1 | 0 |\n",
       "| 12 |  13.592368 | 1.37032986 | 1 | 0 |\n",
       "| 13 | 765.282559 | 0.55124475 | 0 | 0 |\n",
       "| 15 |  13.955972 | 2.79890112 | 1 | 0 |\n",
       "| 16 | 179.665148 | 0.53564048 | 1 | 0 |\n",
       "| 17 | 114.519789 | 0.51698993 | 0 | 0 |\n",
       "\n"
      ],
      "text/plain": [
       "   distance_from_home ratio_to_median_purchase_price online_order fraud\n",
       "3    5.091079         0.42771456                     1            0    \n",
       "4    2.247564         0.36266258                     1            0    \n",
       "6    5.586408         0.06476847                     0            0    \n",
       "8    4.848247         1.27304952                     0            0    \n",
       "10   8.839047         2.36168255                     1            0    \n",
       "12  13.592368         1.37032986                     1            0    \n",
       "13 765.282559         0.55124475                     0            0    \n",
       "15  13.955972         2.79890112                     1            0    \n",
       "16 179.665148         0.53564048                     1            0    \n",
       "17 114.519789         0.51698993                     0            0    "
      ]
     },
     "metadata": {},
     "output_type": "display_data"
    }
   ],
   "source": [
    "set.seed(1)\n",
    "## creat training data for card_data\n",
    "\n",
    "card_split <- initial_split(card_data, prop = 0.75, strata = fraud)  \n",
    "card_train <- training(card_split) \n",
    "card_test <- testing(card_split)\n",
    "\n",
    "head(card_train, 10)"
   ]
  },
  {
   "cell_type": "code",
   "execution_count": 21,
   "metadata": {},
   "outputs": [
    {
     "data": {
      "image/png": "[encoded data removed]",
      "text/plain": [
       "plot without title"
      ]
     },
     "metadata": {
      "image/png": {
       "height": 600,
       "width": 900
      }
     },
     "output_type": "display_data"
    }
   ],
   "source": [
    "options(repr.plot.width = 15, repr.plot.height = 10) \n",
    "\n",
    "card_plot <- ggplot(card_train, aes(x = distance_from_home , y =  ratio_to_median_purchase_price, color = fraud ,shape = online_order)) +\n",
    "            geom_point() +\n",
    "            labs( x = \"Distance from home (km)\" , y = \"Purchase price/ median purchase price\" , color = \"is the transaction fraudulent?\" , shape = online_order) +\n",
    "            theme(text = element_text(size = 20))\n",
    "\n",
    "card_plot"
   ]
  },
  {
   "cell_type": "markdown",
   "metadata": {},
   "source": [
    "## 4. Methods:\n",
    "Explain how you will conduct either your data analysis and which variables/columns you will use. \n",
    "\n",
    "Note - you do not need to use all variables/columns that exist in the raw data set.\n",
    "\n",
    "In fact, that's often not a good idea. For each variable think: is this a useful variable for prediction?\n",
    "\n",
    "Describe at least one way that you will visualize the results"
   ]
  },
  {
   "cell_type": "code",
   "execution_count": null,
   "metadata": {},
   "outputs": [],
   "source": [
    "#Find the correlation between fraud and other variables\n",
    "cor(card_data)"
   ]
  },
  {
   "cell_type": "markdown",
   "metadata": {},
   "source": [
    "## 5. Expected outcomes and significance:\n",
    "What do you expect to find?\n",
    "\n",
    "What impact could such findings have?\n",
    "\n",
    "What future questions could this lead to?"
   ]
  },
  {
   "cell_type": "code",
   "execution_count": null,
   "metadata": {},
   "outputs": [],
   "source": []
  },
  {
   "cell_type": "code",
   "execution_count": null,
   "metadata": {},
   "outputs": [],
   "source": []
  }
 ],
 "metadata": {
  "kernelspec": {
   "display_name": "R",
   "language": "R",
   "name": "ir"
  },
  "language_info": {
   "codemirror_mode": "r",
   "file_extension": ".r",
   "mimetype": "text/x-r-source",
   "name": "R",
   "pygments_lexer": "r",
   "version": "4.0.0"
  }
 },
 "nbformat": 4,
 "nbformat_minor": 4
}
