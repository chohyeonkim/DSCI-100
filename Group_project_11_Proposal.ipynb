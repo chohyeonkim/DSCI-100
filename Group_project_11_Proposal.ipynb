{
 "cells": [
  {
   "cell_type": "markdown",
   "metadata": {},
   "source": [
    "## Group Project Prososal (11) "
   ]
  },
  {
   "cell_type": "code",
   "execution_count": 1,
   "metadata": {},
   "outputs": [
    {
     "name": "stderr",
     "output_type": "stream",
     "text": [
      "── \u001b[1mAttaching packages\u001b[22m ─────────────────────────────────────── tidyverse 1.3.0 ──\n",
      "\n",
      "\u001b[32m✔\u001b[39m \u001b[34mggplot2\u001b[39m 3.3.2     \u001b[32m✔\u001b[39m \u001b[34mpurrr  \u001b[39m 0.3.4\n",
      "\u001b[32m✔\u001b[39m \u001b[34mtibble \u001b[39m 3.0.3     \u001b[32m✔\u001b[39m \u001b[34mdplyr  \u001b[39m 1.0.2\n",
      "\u001b[32m✔\u001b[39m \u001b[34mtidyr  \u001b[39m 1.1.2     \u001b[32m✔\u001b[39m \u001b[34mstringr\u001b[39m 1.4.0\n",
      "\u001b[32m✔\u001b[39m \u001b[34mreadr  \u001b[39m 1.3.1     \u001b[32m✔\u001b[39m \u001b[34mforcats\u001b[39m 0.5.0\n",
      "\n",
      "Warning message:\n",
      "“package ‘ggplot2’ was built under R version 4.0.1”\n",
      "Warning message:\n",
      "“package ‘tibble’ was built under R version 4.0.2”\n",
      "Warning message:\n",
      "“package ‘tidyr’ was built under R version 4.0.2”\n",
      "Warning message:\n",
      "“package ‘dplyr’ was built under R version 4.0.2”\n",
      "── \u001b[1mConflicts\u001b[22m ────────────────────────────────────────── tidyverse_conflicts() ──\n",
      "\u001b[31m✖\u001b[39m \u001b[34mdplyr\u001b[39m::\u001b[32mfilter()\u001b[39m masks \u001b[34mstats\u001b[39m::filter()\n",
      "\u001b[31m✖\u001b[39m \u001b[34mdplyr\u001b[39m::\u001b[32mlag()\u001b[39m    masks \u001b[34mstats\u001b[39m::lag()\n",
      "\n",
      "\n",
      "Attaching package: ‘testthat’\n",
      "\n",
      "\n",
      "The following object is masked from ‘package:dplyr’:\n",
      "\n",
      "    matches\n",
      "\n",
      "\n",
      "The following object is masked from ‘package:purrr’:\n",
      "\n",
      "    is_null\n",
      "\n",
      "\n",
      "The following object is masked from ‘package:tidyr’:\n",
      "\n",
      "    matches\n",
      "\n",
      "\n",
      "Warning message:\n",
      "“package ‘tidymodels’ was built under R version 4.0.2”\n",
      "── \u001b[1mAttaching packages\u001b[22m ────────────────────────────────────── tidymodels 0.1.1 ──\n",
      "\n",
      "\u001b[32m✔\u001b[39m \u001b[34mbroom    \u001b[39m 0.7.0      \u001b[32m✔\u001b[39m \u001b[34mrecipes  \u001b[39m 0.1.13\n",
      "\u001b[32m✔\u001b[39m \u001b[34mdials    \u001b[39m 0.0.9      \u001b[32m✔\u001b[39m \u001b[34mrsample  \u001b[39m 0.0.7 \n",
      "\u001b[32m✔\u001b[39m \u001b[34minfer    \u001b[39m 0.5.4      \u001b[32m✔\u001b[39m \u001b[34mtune     \u001b[39m 0.1.1 \n",
      "\u001b[32m✔\u001b[39m \u001b[34mmodeldata\u001b[39m 0.0.2      \u001b[32m✔\u001b[39m \u001b[34mworkflows\u001b[39m 0.2.0 \n",
      "\u001b[32m✔\u001b[39m \u001b[34mparsnip  \u001b[39m 0.1.3      \u001b[32m✔\u001b[39m \u001b[34myardstick\u001b[39m 0.0.7 \n",
      "\n",
      "Warning message:\n",
      "“package ‘broom’ was built under R version 4.0.2”\n",
      "Warning message:\n",
      "“package ‘dials’ was built under R version 4.0.2”\n",
      "Warning message:\n",
      "“package ‘infer’ was built under R version 4.0.3”\n",
      "Warning message:\n",
      "“package ‘modeldata’ was built under R version 4.0.1”\n",
      "Warning message:\n",
      "“package ‘parsnip’ was built under R version 4.0.2”\n",
      "Warning message:\n",
      "“package ‘recipes’ was built under R version 4.0.1”\n",
      "Warning message:\n",
      "“package ‘tune’ was built under R version 4.0.2”\n",
      "Warning message:\n",
      "“package ‘workflows’ was built under R version 4.0.2”\n",
      "Warning message:\n",
      "“package ‘yardstick’ was built under R version 4.0.2”\n",
      "── \u001b[1mConflicts\u001b[22m ───────────────────────────────────────── tidymodels_conflicts() ──\n",
      "\u001b[31m✖\u001b[39m \u001b[34mscales\u001b[39m::\u001b[32mdiscard()\u001b[39m   masks \u001b[34mpurrr\u001b[39m::discard()\n",
      "\u001b[31m✖\u001b[39m \u001b[34mdplyr\u001b[39m::\u001b[32mfilter()\u001b[39m     masks \u001b[34mstats\u001b[39m::filter()\n",
      "\u001b[31m✖\u001b[39m \u001b[34mrecipes\u001b[39m::\u001b[32mfixed()\u001b[39m    masks \u001b[34mstringr\u001b[39m::fixed()\n",
      "\u001b[31m✖\u001b[39m \u001b[34mtestthat\u001b[39m::\u001b[32mis_null()\u001b[39m masks \u001b[34mpurrr\u001b[39m::is_null()\n",
      "\u001b[31m✖\u001b[39m \u001b[34mdplyr\u001b[39m::\u001b[32mlag()\u001b[39m        masks \u001b[34mstats\u001b[39m::lag()\n",
      "\u001b[31m✖\u001b[39m \u001b[34mtestthat\u001b[39m::\u001b[32mmatches()\u001b[39m masks \u001b[34mdplyr\u001b[39m::matches(), \u001b[34mtidyr\u001b[39m::matches()\n",
      "\u001b[31m✖\u001b[39m \u001b[34myardstick\u001b[39m::\u001b[32mspec()\u001b[39m   masks \u001b[34mreadr\u001b[39m::spec()\n",
      "\u001b[31m✖\u001b[39m \u001b[34mrecipes\u001b[39m::\u001b[32mstep()\u001b[39m     masks \u001b[34mstats\u001b[39m::step()\n",
      "\n"
     ]
    }
   ],
   "source": [
    "library(tidyverse)\n",
    "library(testthat)\n",
    "library(digest)\n",
    "library(repr)\n",
    "library(tidymodels)"
   ]
  },
  {
   "cell_type": "code",
   "execution_count": 10,
   "metadata": {},
   "outputs": [
    {
     "data": {
      "text/html": [
       "<table>\n",
       "<caption>A data.frame: 10 × 8</caption>\n",
       "<thead>\n",
       "\t<tr><th></th><th scope=col>distance_from_home</th><th scope=col>distance_from_last_transaction</th><th scope=col>ratio_to_median_purchase_price</th><th scope=col>repeat_retailer</th><th scope=col>used_chip</th><th scope=col>used_pin_number</th><th scope=col>online_order</th><th scope=col>fraud</th></tr>\n",
       "\t<tr><th></th><th scope=col>&lt;dbl&gt;</th><th scope=col>&lt;dbl&gt;</th><th scope=col>&lt;dbl&gt;</th><th scope=col>&lt;dbl&gt;</th><th scope=col>&lt;dbl&gt;</th><th scope=col>&lt;dbl&gt;</th><th scope=col>&lt;dbl&gt;</th><th scope=col>&lt;dbl&gt;</th></tr>\n",
       "</thead>\n",
       "<tbody>\n",
       "\t<tr><th scope=row>1</th><td>57.8778566</td><td> 0.3111400</td><td>1.94593998</td><td>1</td><td>1</td><td>0</td><td>0</td><td>0</td></tr>\n",
       "\t<tr><th scope=row>2</th><td>10.8299427</td><td> 0.1755915</td><td>1.29421881</td><td>1</td><td>0</td><td>0</td><td>0</td><td>0</td></tr>\n",
       "\t<tr><th scope=row>3</th><td> 5.0910795</td><td> 0.8051526</td><td>0.42771456</td><td>1</td><td>0</td><td>0</td><td>1</td><td>0</td></tr>\n",
       "\t<tr><th scope=row>4</th><td> 2.2475643</td><td> 5.6000435</td><td>0.36266258</td><td>1</td><td>1</td><td>0</td><td>1</td><td>0</td></tr>\n",
       "\t<tr><th scope=row>5</th><td>44.1909360</td><td> 0.5664863</td><td>2.22276730</td><td>1</td><td>1</td><td>0</td><td>1</td><td>0</td></tr>\n",
       "\t<tr><th scope=row>6</th><td> 5.5864077</td><td>13.2610733</td><td>0.06476847</td><td>1</td><td>0</td><td>0</td><td>0</td><td>0</td></tr>\n",
       "\t<tr><th scope=row>7</th><td> 3.7240191</td><td> 0.9568379</td><td>0.27846494</td><td>1</td><td>0</td><td>0</td><td>1</td><td>0</td></tr>\n",
       "\t<tr><th scope=row>8</th><td> 4.8482466</td><td> 0.3207354</td><td>1.27304952</td><td>1</td><td>0</td><td>1</td><td>0</td><td>0</td></tr>\n",
       "\t<tr><th scope=row>9</th><td> 0.8766323</td><td> 2.5036089</td><td>1.51699932</td><td>0</td><td>0</td><td>0</td><td>0</td><td>0</td></tr>\n",
       "\t<tr><th scope=row>10</th><td> 8.8390467</td><td> 2.9705123</td><td>2.36168255</td><td>1</td><td>0</td><td>0</td><td>1</td><td>0</td></tr>\n",
       "</tbody>\n",
       "</table>\n"
      ],
      "text/latex": [
       "A data.frame: 10 × 8\n",
       "\\begin{tabular}{r|llllllll}\n",
       "  & distance\\_from\\_home & distance\\_from\\_last\\_transaction & ratio\\_to\\_median\\_purchase\\_price & repeat\\_retailer & used\\_chip & used\\_pin\\_number & online\\_order & fraud\\\\\n",
       "  & <dbl> & <dbl> & <dbl> & <dbl> & <dbl> & <dbl> & <dbl> & <dbl>\\\\\n",
       "\\hline\n",
       "\t1 & 57.8778566 &  0.3111400 & 1.94593998 & 1 & 1 & 0 & 0 & 0\\\\\n",
       "\t2 & 10.8299427 &  0.1755915 & 1.29421881 & 1 & 0 & 0 & 0 & 0\\\\\n",
       "\t3 &  5.0910795 &  0.8051526 & 0.42771456 & 1 & 0 & 0 & 1 & 0\\\\\n",
       "\t4 &  2.2475643 &  5.6000435 & 0.36266258 & 1 & 1 & 0 & 1 & 0\\\\\n",
       "\t5 & 44.1909360 &  0.5664863 & 2.22276730 & 1 & 1 & 0 & 1 & 0\\\\\n",
       "\t6 &  5.5864077 & 13.2610733 & 0.06476847 & 1 & 0 & 0 & 0 & 0\\\\\n",
       "\t7 &  3.7240191 &  0.9568379 & 0.27846494 & 1 & 0 & 0 & 1 & 0\\\\\n",
       "\t8 &  4.8482466 &  0.3207354 & 1.27304952 & 1 & 0 & 1 & 0 & 0\\\\\n",
       "\t9 &  0.8766323 &  2.5036089 & 1.51699932 & 0 & 0 & 0 & 0 & 0\\\\\n",
       "\t10 &  8.8390467 &  2.9705123 & 2.36168255 & 1 & 0 & 0 & 1 & 0\\\\\n",
       "\\end{tabular}\n"
      ],
      "text/markdown": [
       "\n",
       "A data.frame: 10 × 8\n",
       "\n",
       "| <!--/--> | distance_from_home &lt;dbl&gt; | distance_from_last_transaction &lt;dbl&gt; | ratio_to_median_purchase_price &lt;dbl&gt; | repeat_retailer &lt;dbl&gt; | used_chip &lt;dbl&gt; | used_pin_number &lt;dbl&gt; | online_order &lt;dbl&gt; | fraud &lt;dbl&gt; |\n",
       "|---|---|---|---|---|---|---|---|---|\n",
       "| 1 | 57.8778566 |  0.3111400 | 1.94593998 | 1 | 1 | 0 | 0 | 0 |\n",
       "| 2 | 10.8299427 |  0.1755915 | 1.29421881 | 1 | 0 | 0 | 0 | 0 |\n",
       "| 3 |  5.0910795 |  0.8051526 | 0.42771456 | 1 | 0 | 0 | 1 | 0 |\n",
       "| 4 |  2.2475643 |  5.6000435 | 0.36266258 | 1 | 1 | 0 | 1 | 0 |\n",
       "| 5 | 44.1909360 |  0.5664863 | 2.22276730 | 1 | 1 | 0 | 1 | 0 |\n",
       "| 6 |  5.5864077 | 13.2610733 | 0.06476847 | 1 | 0 | 0 | 0 | 0 |\n",
       "| 7 |  3.7240191 |  0.9568379 | 0.27846494 | 1 | 0 | 0 | 1 | 0 |\n",
       "| 8 |  4.8482466 |  0.3207354 | 1.27304952 | 1 | 0 | 1 | 0 | 0 |\n",
       "| 9 |  0.8766323 |  2.5036089 | 1.51699932 | 0 | 0 | 0 | 0 | 0 |\n",
       "| 10 |  8.8390467 |  2.9705123 | 2.36168255 | 1 | 0 | 0 | 1 | 0 |\n",
       "\n"
      ],
      "text/plain": [
       "   distance_from_home distance_from_last_transaction\n",
       "1  57.8778566          0.3111400                    \n",
       "2  10.8299427          0.1755915                    \n",
       "3   5.0910795          0.8051526                    \n",
       "4   2.2475643          5.6000435                    \n",
       "5  44.1909360          0.5664863                    \n",
       "6   5.5864077         13.2610733                    \n",
       "7   3.7240191          0.9568379                    \n",
       "8   4.8482466          0.3207354                    \n",
       "9   0.8766323          2.5036089                    \n",
       "10  8.8390467          2.9705123                    \n",
       "   ratio_to_median_purchase_price repeat_retailer used_chip used_pin_number\n",
       "1  1.94593998                     1               1         0              \n",
       "2  1.29421881                     1               0         0              \n",
       "3  0.42771456                     1               0         0              \n",
       "4  0.36266258                     1               1         0              \n",
       "5  2.22276730                     1               1         0              \n",
       "6  0.06476847                     1               0         0              \n",
       "7  0.27846494                     1               0         0              \n",
       "8  1.27304952                     1               0         1              \n",
       "9  1.51699932                     0               0         0              \n",
       "10 2.36168255                     1               0         0              \n",
       "   online_order fraud\n",
       "1  0            0    \n",
       "2  0            0    \n",
       "3  1            0    \n",
       "4  1            0    \n",
       "5  1            0    \n",
       "6  0            0    \n",
       "7  1            0    \n",
       "8  0            0    \n",
       "9  0            0    \n",
       "10 1            0    "
      ]
     },
     "metadata": {},
     "output_type": "display_data"
    }
   ],
   "source": [
    "#read the file\n",
    "card_data <- read.csv(\"data/card_transdata.csv\")\n",
    "head(card_data, 10)"
   ]
  },
  {
   "cell_type": "code",
   "execution_count": 11,
   "metadata": {},
   "outputs": [
    {
     "data": {
      "text/html": [
       "<table>\n",
       "<caption>A matrix: 8 × 8 of type dbl</caption>\n",
       "<thead>\n",
       "\t<tr><th></th><th scope=col>distance_from_home</th><th scope=col>distance_from_last_transaction</th><th scope=col>ratio_to_median_purchase_price</th><th scope=col>repeat_retailer</th><th scope=col>used_chip</th><th scope=col>used_pin_number</th><th scope=col>online_order</th><th scope=col>fraud</th></tr>\n",
       "</thead>\n",
       "<tbody>\n",
       "\t<tr><th scope=row>distance_from_home</th><td> 1.0000000000</td><td> 0.0001928283</td><td>-0.0013741792</td><td> 0.1431242563</td><td>-0.0006970671</td><td>-0.0016221862</td><td>-0.0013011283</td><td> 0.18757078</td></tr>\n",
       "\t<tr><th scope=row>distance_from_last_transaction</th><td> 0.0001928283</td><td> 1.0000000000</td><td> 0.0010125256</td><td>-0.0009282325</td><td> 0.0020548558</td><td>-0.0008986436</td><td> 0.0001408932</td><td> 0.09191691</td></tr>\n",
       "\t<tr><th scope=row>ratio_to_median_purchase_price</th><td>-0.0013741792</td><td> 0.0010125256</td><td> 1.0000000000</td><td> 0.0013738219</td><td> 0.0005865787</td><td> 0.0009422046</td><td>-0.0003298145</td><td> 0.46230472</td></tr>\n",
       "\t<tr><th scope=row>repeat_retailer</th><td> 0.1431242563</td><td>-0.0009282325</td><td> 0.0013738219</td><td> 1.0000000000</td><td>-0.0013447766</td><td>-0.0004173906</td><td>-0.0005322431</td><td>-0.00135745</td></tr>\n",
       "\t<tr><th scope=row>used_chip</th><td>-0.0006970671</td><td> 0.0020548558</td><td> 0.0005865787</td><td>-0.0013447766</td><td> 1.0000000000</td><td>-0.0013931882</td><td>-0.0002187927</td><td>-0.06097460</td></tr>\n",
       "\t<tr><th scope=row>used_pin_number</th><td>-0.0016221862</td><td>-0.0008986436</td><td> 0.0009422046</td><td>-0.0004173906</td><td>-0.0013931882</td><td> 1.0000000000</td><td>-0.0002909938</td><td>-0.10029254</td></tr>\n",
       "\t<tr><th scope=row>online_order</th><td>-0.0013011283</td><td> 0.0001408932</td><td>-0.0003298145</td><td>-0.0005322431</td><td>-0.0002187927</td><td>-0.0002909938</td><td> 1.0000000000</td><td> 0.19197252</td></tr>\n",
       "\t<tr><th scope=row>fraud</th><td> 0.1875707828</td><td> 0.0919169123</td><td> 0.4623047223</td><td>-0.0013574501</td><td>-0.0609745976</td><td>-0.1002925373</td><td> 0.1919725224</td><td> 1.00000000</td></tr>\n",
       "</tbody>\n",
       "</table>\n"
      ],
      "text/latex": [
       "A matrix: 8 × 8 of type dbl\n",
       "\\begin{tabular}{r|llllllll}\n",
       "  & distance\\_from\\_home & distance\\_from\\_last\\_transaction & ratio\\_to\\_median\\_purchase\\_price & repeat\\_retailer & used\\_chip & used\\_pin\\_number & online\\_order & fraud\\\\\n",
       "\\hline\n",
       "\tdistance\\_from\\_home &  1.0000000000 &  0.0001928283 & -0.0013741792 &  0.1431242563 & -0.0006970671 & -0.0016221862 & -0.0013011283 &  0.18757078\\\\\n",
       "\tdistance\\_from\\_last\\_transaction &  0.0001928283 &  1.0000000000 &  0.0010125256 & -0.0009282325 &  0.0020548558 & -0.0008986436 &  0.0001408932 &  0.09191691\\\\\n",
       "\tratio\\_to\\_median\\_purchase\\_price & -0.0013741792 &  0.0010125256 &  1.0000000000 &  0.0013738219 &  0.0005865787 &  0.0009422046 & -0.0003298145 &  0.46230472\\\\\n",
       "\trepeat\\_retailer &  0.1431242563 & -0.0009282325 &  0.0013738219 &  1.0000000000 & -0.0013447766 & -0.0004173906 & -0.0005322431 & -0.00135745\\\\\n",
       "\tused\\_chip & -0.0006970671 &  0.0020548558 &  0.0005865787 & -0.0013447766 &  1.0000000000 & -0.0013931882 & -0.0002187927 & -0.06097460\\\\\n",
       "\tused\\_pin\\_number & -0.0016221862 & -0.0008986436 &  0.0009422046 & -0.0004173906 & -0.0013931882 &  1.0000000000 & -0.0002909938 & -0.10029254\\\\\n",
       "\tonline\\_order & -0.0013011283 &  0.0001408932 & -0.0003298145 & -0.0005322431 & -0.0002187927 & -0.0002909938 &  1.0000000000 &  0.19197252\\\\\n",
       "\tfraud &  0.1875707828 &  0.0919169123 &  0.4623047223 & -0.0013574501 & -0.0609745976 & -0.1002925373 &  0.1919725224 &  1.00000000\\\\\n",
       "\\end{tabular}\n"
      ],
      "text/markdown": [
       "\n",
       "A matrix: 8 × 8 of type dbl\n",
       "\n",
       "| <!--/--> | distance_from_home | distance_from_last_transaction | ratio_to_median_purchase_price | repeat_retailer | used_chip | used_pin_number | online_order | fraud |\n",
       "|---|---|---|---|---|---|---|---|---|\n",
       "| distance_from_home |  1.0000000000 |  0.0001928283 | -0.0013741792 |  0.1431242563 | -0.0006970671 | -0.0016221862 | -0.0013011283 |  0.18757078 |\n",
       "| distance_from_last_transaction |  0.0001928283 |  1.0000000000 |  0.0010125256 | -0.0009282325 |  0.0020548558 | -0.0008986436 |  0.0001408932 |  0.09191691 |\n",
       "| ratio_to_median_purchase_price | -0.0013741792 |  0.0010125256 |  1.0000000000 |  0.0013738219 |  0.0005865787 |  0.0009422046 | -0.0003298145 |  0.46230472 |\n",
       "| repeat_retailer |  0.1431242563 | -0.0009282325 |  0.0013738219 |  1.0000000000 | -0.0013447766 | -0.0004173906 | -0.0005322431 | -0.00135745 |\n",
       "| used_chip | -0.0006970671 |  0.0020548558 |  0.0005865787 | -0.0013447766 |  1.0000000000 | -0.0013931882 | -0.0002187927 | -0.06097460 |\n",
       "| used_pin_number | -0.0016221862 | -0.0008986436 |  0.0009422046 | -0.0004173906 | -0.0013931882 |  1.0000000000 | -0.0002909938 | -0.10029254 |\n",
       "| online_order | -0.0013011283 |  0.0001408932 | -0.0003298145 | -0.0005322431 | -0.0002187927 | -0.0002909938 |  1.0000000000 |  0.19197252 |\n",
       "| fraud |  0.1875707828 |  0.0919169123 |  0.4623047223 | -0.0013574501 | -0.0609745976 | -0.1002925373 |  0.1919725224 |  1.00000000 |\n",
       "\n"
      ],
      "text/plain": [
       "                               distance_from_home\n",
       "distance_from_home              1.0000000000     \n",
       "distance_from_last_transaction  0.0001928283     \n",
       "ratio_to_median_purchase_price -0.0013741792     \n",
       "repeat_retailer                 0.1431242563     \n",
       "used_chip                      -0.0006970671     \n",
       "used_pin_number                -0.0016221862     \n",
       "online_order                   -0.0013011283     \n",
       "fraud                           0.1875707828     \n",
       "                               distance_from_last_transaction\n",
       "distance_from_home              0.0001928283                 \n",
       "distance_from_last_transaction  1.0000000000                 \n",
       "ratio_to_median_purchase_price  0.0010125256                 \n",
       "repeat_retailer                -0.0009282325                 \n",
       "used_chip                       0.0020548558                 \n",
       "used_pin_number                -0.0008986436                 \n",
       "online_order                    0.0001408932                 \n",
       "fraud                           0.0919169123                 \n",
       "                               ratio_to_median_purchase_price repeat_retailer\n",
       "distance_from_home             -0.0013741792                   0.1431242563  \n",
       "distance_from_last_transaction  0.0010125256                  -0.0009282325  \n",
       "ratio_to_median_purchase_price  1.0000000000                   0.0013738219  \n",
       "repeat_retailer                 0.0013738219                   1.0000000000  \n",
       "used_chip                       0.0005865787                  -0.0013447766  \n",
       "used_pin_number                 0.0009422046                  -0.0004173906  \n",
       "online_order                   -0.0003298145                  -0.0005322431  \n",
       "fraud                           0.4623047223                  -0.0013574501  \n",
       "                               used_chip     used_pin_number online_order \n",
       "distance_from_home             -0.0006970671 -0.0016221862   -0.0013011283\n",
       "distance_from_last_transaction  0.0020548558 -0.0008986436    0.0001408932\n",
       "ratio_to_median_purchase_price  0.0005865787  0.0009422046   -0.0003298145\n",
       "repeat_retailer                -0.0013447766 -0.0004173906   -0.0005322431\n",
       "used_chip                       1.0000000000 -0.0013931882   -0.0002187927\n",
       "used_pin_number                -0.0013931882  1.0000000000   -0.0002909938\n",
       "online_order                   -0.0002187927 -0.0002909938    1.0000000000\n",
       "fraud                          -0.0609745976 -0.1002925373    0.1919725224\n",
       "                               fraud      \n",
       "distance_from_home              0.18757078\n",
       "distance_from_last_transaction  0.09191691\n",
       "ratio_to_median_purchase_price  0.46230472\n",
       "repeat_retailer                -0.00135745\n",
       "used_chip                      -0.06097460\n",
       "used_pin_number                -0.10029254\n",
       "online_order                    0.19197252\n",
       "fraud                           1.00000000"
      ]
     },
     "metadata": {},
     "output_type": "display_data"
    }
   ],
   "source": [
    "#Find the correlation between fraud and other variables\n",
    "cor(card_data)"
   ]
  },
  {
   "cell_type": "code",
   "execution_count": null,
   "metadata": {},
   "outputs": [],
   "source": [
    "#upload "
   ]
  },
  {
   "cell_type": "markdown",
   "metadata": {},
   "source": [
    "## 1. Title :\n",
    "\n"
   ]
  },
  {
   "cell_type": "code",
   "execution_count": null,
   "metadata": {},
   "outputs": [],
   "source": []
  },
  {
   "cell_type": "code",
   "execution_count": null,
   "metadata": {},
   "outputs": [],
   "source": []
  },
  {
   "cell_type": "markdown",
   "metadata": {},
   "source": [
    "## 2. Introduction:\n",
    "Provide some relevant background information on the topic so that someone unfamiliar with it will be prepared to understand the rest of your proposal\n",
    "Clearly state the question you will try to answer with your project\n",
    "Identify and describe the dataset that will be used to answer the question"
   ]
  },
  {
   "cell_type": "markdown",
   "metadata": {},
   "source": [
    "## 3. Preliminary exploratory data analysis:\n",
    "\n",
    "Demonstrate that the dataset can be read from the web into R \n",
    "Clean and wrangle your data into a tidy format\n",
    "Using only training data, summarize the data in at least one table (this is exploratory data analysis). An example of a useful table could be one that reports the number of observations in each class, the means of the predictor variables you plan to use in your analysis and how many rows have missing data. \n",
    "Using only training data, visualize the data with at least one plot relevant to the analysis you plan to do (this is exploratory data analysis). An example of a useful visualization could be one that compares the distributions of each of the predictor variables you plan to use in your analysis."
   ]
  },
  {
   "cell_type": "markdown",
   "metadata": {},
   "source": [
    "## 4. Methods:\n",
    "Explain how you will conduct either your data analysis and which variables/columns you will use. \n",
    "\n",
    "Note - you do not need to use all variables/columns that exist in the raw data set.\n",
    "\n",
    "In fact, that's often not a good idea. For each variable think: is this a useful variable for prediction?\n",
    "\n",
    "Describe at least one way that you will visualize the results"
   ]
  },
  {
   "cell_type": "markdown",
   "metadata": {},
   "source": [
    "## 5. Expected outcomes and significance:\n",
    "What do you expect to find?\n",
    "\n",
    "What impact could such findings have?\n",
    "\n",
    "What future questions could this lead to?"
   ]
  },
  {
   "cell_type": "code",
   "execution_count": null,
   "metadata": {},
   "outputs": [],
   "source": []
  },
  {
   "cell_type": "code",
   "execution_count": null,
   "metadata": {},
   "outputs": [],
   "source": []
  }
 ],
 "metadata": {
  "kernelspec": {
   "display_name": "R",
   "language": "R",
   "name": "ir"
  },
  "language_info": {
   "codemirror_mode": "r",
   "file_extension": ".r",
   "mimetype": "text/x-r-source",
   "name": "R",
   "pygments_lexer": "r",
   "version": "4.0.0"
  }
 },
 "nbformat": 4,
 "nbformat_minor": 4
}
