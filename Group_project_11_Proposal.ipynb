{
 "cells": [
  {
   "cell_type": "markdown",
   "metadata": {},
   "source": [
    "## Group Project Prososal (group 11) "
   ]
  },
  {
   "cell_type": "code",
   "execution_count": 15,
   "metadata": {},
   "outputs": [],
   "source": [
    "library(tidyverse)\n",
    "library(testthat)\n",
    "library(digest)\n",
    "library(repr)\n",
    "library(tidymodels)"
   ]
  },
  {
   "cell_type": "markdown",
   "metadata": {},
   "source": [
    "## 1. Title : Credit Card Fraud Data Analysis Report\n",
    "\n"
   ]
  },
  {
   "cell_type": "markdown",
   "metadata": {},
   "source": [
    "## 2. Introduction:\n",
    "\n",
    "**1) Background Information** \n",
    "\n",
    "As digital payments boomed in recent years with the rapid development of the Internet, people enjoy the fast and convenient transaction service but also face an increasing number of cyber criminals alongside. The Data Breach Index announced that over five million records are being stolen on a daily basis, which indicates that fraud is very common in our daily life. However, detection of fraud is challenging since trillions of card transactions happen per day. \n"
   ]
  },
  {
   "cell_type": "markdown",
   "metadata": {},
   "source": [
    "**2) Research Question**\n",
    "\n",
    "Based on the analysis, can we predict fraudulent transaction using **<font color=red> distance from home and ratio to median purchase price variables to prevent future crime?"
   ]
  },
  {
   "cell_type": "markdown",
   "metadata": {},
   "source": [
    "**3) Dataset description**\n",
    "\n",
    "We will be using a dataset called Credit Card Fraud made by Dhanush Narayanan from https://www.kaggle.com/datasets/dhanushnarayananr/credit-card-fraud. The dataset is in a “Comma Seperated Value” (csv) file format and contains eight columns, which are: \n",
    "distance_from_home : the distance from home where the transaction happened\n",
    "distance_from_last_transaction : the distance from last transaction happened.\n",
    "ratio_to_median_purchase_price  :  Ratio of purchased price transaction to median purchase price.\n",
    "repeat_retailer : whether the transaction happened from same retailer or not\n",
    "used_chip : whether the transaction is through chip (credit card) or not\n",
    "used_pin_number : whether the transaction happened by using PIN number or not\n",
    "online_order : whether the transaction is an online order or not\n",
    "fraud : whether the transaction is fraudulent or not\n"
   ]
  },
  {
   "cell_type": "markdown",
   "metadata": {},
   "source": [
    "## 3. Preliminary exploratory data analysis:\n",
    "\n",
    "Demonstrate that the dataset can be read from the web into R \n",
    "Clean and wrangle your data into a tidy format\n",
    "Using only training data, summarize the data in at least one table (this is exploratory data analysis). An example of a useful table could be one that reports the number of observations in each class, the means of the predictor variables you plan to use in your analysis and how many rows have missing data. \n",
    "Using only training data, visualize the data with at least one plot relevant to the analysis you plan to do (this is exploratory data analysis). An example of a useful visualization could be one that compares the distributions of each of the predictor variables you plan to use in your analysis."
   ]
  },
  {
   "cell_type": "code",
   "execution_count": null,
   "metadata": {},
   "outputs": [],
   "source": [
    "#read the file\n",
    "data <- read.csv(\"data/card_transdata.csv\") %>%\n",
    "                mutate(repeat_retailer = as_factor(repeat_retailer)) %>%\n",
    "                mutate(used_chip = as_factor(used_chip)) %>%\n",
    "                mutate(used_pin_number = as_factor(used_pin_number)) %>%\n",
    "                mutate(fraud = as_factor(fraud)) \n",
    "head(data, 10)"
   ]
  },
  {
   "cell_type": "code",
   "execution_count": null,
   "metadata": {},
   "outputs": [],
   "source": [
    "card_data <- select(data, distance_from_home, ratio_to_median_purchase_price, fraud )\n",
    "head(card_data, 10)"
   ]
  },
  {
   "cell_type": "code",
   "execution_count": null,
   "metadata": {},
   "outputs": [],
   "source": [
    "set.seed(1)\n",
    "## creat training data for card_data\n",
    "\n",
    "card_split <- initial_split(card_data, prop = 0.75, strata = fraud)  \n",
    "card_train <- training(card_split) \n",
    "card_test <- testing(card_split)\n",
    "\n",
    "head(card_train, 10)"
   ]
  },
  {
   "cell_type": "code",
   "execution_count": null,
   "metadata": {},
   "outputs": [],
   "source": [
    "options(repr.plot.width = 15, repr.plot.height = 10) \n",
    "\n",
    "card_plot <- ggplot(card_train, aes(x = distance_from_home , y =  ratio_to_median_purchase_price, color = fraud)) +\n",
    "            geom_point() +\n",
    "            labs( x = \"Distance from home (km)\" , y = \"Purchase price/ median purchase price\" , color = \"is the transaction fraudulent?\") +\n",
    "            theme(text = element_text(size = 20))\n",
    "\n",
    "card_plot"
   ]
  },
  {
   "cell_type": "markdown",
   "metadata": {},
   "source": [
    "## 4. Methods:\n",
    "Explain how you will conduct either your data analysis and which variables/columns you will use. \n",
    "\n",
    "Note - you do not need to use all variables/columns that exist in the raw data set.\n",
    "\n",
    "In fact, that's often not a good idea. For each variable think: is this a useful variable for prediction?\n",
    "\n",
    "Describe at least one way that you will visualize the results"
   ]
  },
  {
   "cell_type": "code",
   "execution_count": null,
   "metadata": {},
   "outputs": [],
   "source": [
    "#Find the correlation between fraud and other variables\n",
    "cor(card_data)"
   ]
  },
  {
   "cell_type": "markdown",
   "metadata": {},
   "source": [
    "## 5. Expected outcomes and significance:\n",
    "What do you expect to find?\n",
    "\n",
    "What impact could such findings have?\n",
    "\n",
    "What future questions could this lead to?"
   ]
  },
  {
   "cell_type": "code",
   "execution_count": null,
   "metadata": {},
   "outputs": [],
   "source": []
  },
  {
   "cell_type": "code",
   "execution_count": null,
   "metadata": {},
   "outputs": [],
   "source": []
  }
 ],
 "metadata": {
  "kernelspec": {
   "display_name": "R",
   "language": "R",
   "name": "ir"
  },
  "language_info": {
   "codemirror_mode": "r",
   "file_extension": ".r",
   "mimetype": "text/x-r-source",
   "name": "R",
   "pygments_lexer": "r",
   "version": "4.0.0"
  }
 },
 "nbformat": 4,
 "nbformat_minor": 4
}
