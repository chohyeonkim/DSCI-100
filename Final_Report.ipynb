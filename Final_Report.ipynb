{
 "cells": [
  {
   "cell_type": "code",
   "execution_count": 2,
   "metadata": {},
   "outputs": [],
   "source": [
    "## Group Project Final Report (Group 11) "
   ]
  },
  {
   "cell_type": "markdown",
   "metadata": {},
   "source": [
    "## Introduction\n",
    "\n",
    "** Background Information** \n",
    "\n",
    "As digital payments boomed in recent years with the rapid development of the Internet, people enjoy the fast and convenient transaction service but also face an increasing number of cyber criminals alongside. \n",
    "The Data Breach Index announced that over five million records are being stolen on a daily basis, which indicates that fraud is very common in our daily life. \n",
    "However, detection of fraud is challenging since trillions of card transactions happen per day. \n",
    "\n",
    "** Research Question**\n",
    "\n",
    "Using our classification model, can we predict fraudulent transaction using **<font color=red> distance from home and ratio to median purchase price</font>** variables to prevent future crime?\n",
    "\n",
    "** Dataset description**\n",
    "\n",
    "We will be using a dataset called Credit Card Fraud by Dhanush Narayanan from https://www.kaggle.com/datasets/dhanushnarayananr/credit-card-fraud. The dataset is in a “Comma Seperated Value” (csv) file format and contains eight columns, which are: \n",
    "- **distance_from_home** = the distance from home where the transaction happened\n",
    "- **distance_from_last_transaction** = the distance from last transaction happened.\n",
    "- **ratio_to_median_purchase_price**  =  Ratio of purchased price transaction to median purchase price.\n",
    "- **repeat_retailer** = whether the transaction happened from same retailer or not\n",
    "- **used_chip** = whether the transaction is through chip (credit card) or not\n",
    "- **used_pin_number** = whether the transaction happened by using PIN number or not\n",
    "- **online_order** = whether the transaction is an online order or not\n",
    "- **fraud** = whether the transaction is fraudulent or not\n",
    "\n",
    "Our target variable, which is the variable that we are predicting, is fraud and the predictors that we will be using are distance_from_home and ratio_to_median_purchase_price."
   ]
  },
  {
   "cell_type": "code",
   "execution_count": null,
   "metadata": {},
   "outputs": [],
   "source": []
  },
  {
   "cell_type": "code",
   "execution_count": null,
   "metadata": {},
   "outputs": [],
   "source": []
  },
  {
   "cell_type": "code",
   "execution_count": null,
   "metadata": {},
   "outputs": [],
   "source": []
  }
 ],
 "metadata": {
  "kernelspec": {
   "display_name": "R",
   "language": "R",
   "name": "ir"
  },
  "language_info": {
   "codemirror_mode": "r",
   "file_extension": ".r",
   "mimetype": "text/x-r-source",
   "name": "R",
   "pygments_lexer": "r",
   "version": "4.0.0"
  }
 },
 "nbformat": 4,
 "nbformat_minor": 4
}
